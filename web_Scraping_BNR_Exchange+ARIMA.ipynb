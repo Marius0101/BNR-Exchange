{
 "cells": [
  {
   "cell_type": "markdown",
   "id": "36713144",
   "metadata": {},
   "source": [
    "# import library"
   ]
  },
  {
   "cell_type": "code",
   "execution_count": 4,
   "id": "3328d4c9",
   "metadata": {},
   "outputs": [],
   "source": [
    "import requests\n",
    "import pandas as pd\n",
    "from bs4 import BeautifulSoup\n",
    "from selenium import webdriver\n",
    "\n",
    "from selenium import webdriver\n",
    "from selenium.webdriver.common.by import By\n",
    "from selenium.webdriver.support.ui import WebDriverWait\n",
    "from selenium.webdriver.support import expected_conditions as EC\n",
    "\n",
    "from selenium.webdriver.support.ui import Select\n",
    "from selenium.webdriver.common.by import By\n",
    "\n",
    "import csv\n",
    "import pandas as pd\n",
    "\n",
    "import itertools\n",
    "\n",
    "import statsmodels\n",
    "import statsmodels.tsa.arima.model\n",
    "\n",
    "from datetime import date\n",
    "from datetime import timedelta\n",
    "\n",
    "from webdriver_manager.chrome import ChromeDriverManager"
   ]
  },
  {
   "cell_type": "markdown",
   "id": "a36efd5f",
   "metadata": {},
   "source": [
    "# Scraping data"
   ]
  },
  {
   "cell_type": "code",
   "execution_count": 5,
   "id": "35e1e1a0",
   "metadata": {},
   "outputs": [
    {
     "name": "stderr",
     "output_type": "stream",
     "text": [
      "[WDM] - Downloading:  94%|████████████████████████████████████████████████████▊   | 6.10M/6.46M [00:01<00:00, 6.18MB/s]<ipython-input-5-88074e25a1fc>:1: DeprecationWarning: executable_path has been deprecated, please pass in a Service object\n",
      "  browser = webdriver.Chrome(ChromeDriverManager().install())\n",
      "<ipython-input-5-88074e25a1fc>:14: DeprecationWarning: find_element_by_name is deprecated. Please use find_element(by=By.NAME, value=name) instead\n",
      "  startdate = browser.find_element_by_name('dataStart')\n",
      "<ipython-input-5-88074e25a1fc>:17: DeprecationWarning: find_element_by_* commands are deprecated. Please use find_element() instead\n",
      "  browser.find_element_by_id('formbuton').click()\n",
      "[WDM] - Downloading: 100%|█████████████████████████████████████████████████████████| 6.46M/6.46M [00:24<00:00, 276kB/s]\n"
     ]
    }
   ],
   "source": [
    "browser = webdriver.Chrome(ChromeDriverManager().install())\n",
    "browser.get('https://www.cursbnr.ro/curs-valutar-bnr')\n",
    "select = Select(browser.find_element( By.NAME ,'currency'))\n",
    "nr_student = 42\n",
    "nr_valut = len(select.options)\n",
    "\n",
    "if (nr_student >= nr_valut):\n",
    "    while(nr_student >= nr_valut):\n",
    "        nr_student = nr_student-nr_valut\n",
    "else:\n",
    "    nr_student= nr_student -1\n",
    "    \n",
    "select.select_by_index(nr_student)\n",
    "startdate = browser.find_element_by_name('dataStart')\n",
    "startdate.clear()\n",
    "startdate.send_keys('27/03/2005')\n",
    "browser.find_element_by_id('formbuton').click()\n",
    "html = browser.page_source\n",
    "soup = BeautifulSoup(html.lower(), \"html.parser\")\n",
    "lista_td = soup.find( attrs={'class':'table table-md table-striped text-center'}).find('tbody').find_all('td')\n",
    "lista_dict = []\n",
    "row_dict = {}\n",
    "for i in range(len(lista_td)):\n",
    "\n",
    "    if i%2 == 0:\n",
    "        row_dict = {}\n",
    "        row_dict['data'] = lista_td[i].text\n",
    "    if i%2 != 0:\n",
    "        row_dict['curs vs RON'] = lista_td[i].text\n",
    "        lista_dict.append(row_dict)\n",
    "    \n",
    "df = pd.DataFrame(lista_dict)\n",
    "df.to_csv(r'D:\\my_data.csv', index=False)\n",
    "browser.close()"
   ]
  },
  {
   "cell_type": "markdown",
   "id": "1f482eb0",
   "metadata": {},
   "source": [
    "# ARIMA model"
   ]
  },
  {
   "cell_type": "code",
   "execution_count": 7,
   "id": "7536f9d8",
   "metadata": {},
   "outputs": [
    {
     "name": "stderr",
     "output_type": "stream",
     "text": [
      "<ipython-input-7-561227caba2c>:4: UserWarning: Pandas doesn't allow columns to be created via a new attribute name - see https://pandas.pydata.org/pandas-docs/stable/indexing.html#attribute-access\n",
      "  new_df.curs=new_df['curs vs RON'].fillna(method=\"ffill\")\n"
     ]
    },
    {
     "name": "stdout",
     "output_type": "stream",
     "text": [
      "==============================================================================\n",
      "                 coef    std err          z      P>|z|      [0.025      0.975]\n",
      "------------------------------------------------------------------------------\n",
      "const          5.2830      0.006    856.400      0.000       5.271       5.295\n",
      "sigma2         0.1664      0.004     43.866      0.000       0.159       0.174\n",
      "==============================================================================\n",
      "Prediction next day:\n",
      "2022-10-30    5.282952\n",
      "Freq: D, dtype: float64\n"
     ]
    }
   ],
   "source": [
    "\n",
    "new_df = pd.read_csv(\"D:\\my_data.csv\")\n",
    "new_df['data'] = pd.to_datetime(new_df['data'], format=\"%d.%m.%Y\")\n",
    "new_df = new_df.set_index('data').asfreq('D')\n",
    "new_df.curs=new_df['curs vs RON'].fillna(method=\"ffill\")\n",
    "y = new_df['curs vs RON']\n",
    "p = d = q = range(0, 3)\n",
    "pdq = list(itertools.product(p, d, q))\n",
    "mod = statsmodels.tsa.arima.model.ARIMA(y,\n",
    "                       order=pdq[1],\n",
    "                        enforce_stationarity=False,\n",
    "                        enforce_invertibility=False)\n",
    "results = mod.fit()\n",
    "results.aic\n",
    "dict_list = []\n",
    "\n",
    "for param in pdq:\n",
    "   #for param_seasonal in seasonal_pdq:\n",
    "    try:\n",
    "            mod = statsmodels.tsa.arima.model.ARIMA(y,\n",
    "            order=pdq[1],\n",
    "            enforce_stationarity=False,\n",
    "            enforce_invertibility=False)\n",
    "            results = mod.fit()\n",
    "            \n",
    "            # lista cu dictionare de valori; aceleasi key inseamna ca la final vom putea transforma lista in dataframe\n",
    "            dict_list.append({'pdq':param,\n",
    "                              #'seasonal_pdq':param_seasonal,\n",
    "                             'AIC':results.aic })\n",
    "            \n",
    "            #print('ARIMA{}x{}12 - AIC:{}'.format(param, param_seasonal, results.aic))\n",
    "    except:\n",
    "            continue\n",
    "            \n",
    "best_param = pd.DataFrame(dict_list).sort_values(by = 'AIC', ascending = True).pdq[0]\n",
    "mod = statsmodels.tsa.arima.model.ARIMA(y,\n",
    "                                order=best_param,\n",
    "                                \n",
    "                                enforce_stationarity=False,\n",
    "                                enforce_invertibility=False)\n",
    "\n",
    "results = mod.fit()\n",
    "try:\n",
    "    print(results.summary().tables[1])\n",
    "    print(\"Prediction next day:\")\n",
    "    print(results.predict(date.today()+timedelta(days=1)))\n",
    "except:\n",
    "    print(\"Display problems\")"
   ]
  },
  {
   "cell_type": "code",
   "execution_count": null,
   "id": "a00d47ed",
   "metadata": {},
   "outputs": [],
   "source": []
  }
 ],
 "metadata": {
  "kernelspec": {
   "display_name": "Python 3",
   "language": "python",
   "name": "python3"
  },
  "language_info": {
   "codemirror_mode": {
    "name": "ipython",
    "version": 3
   },
   "file_extension": ".py",
   "mimetype": "text/x-python",
   "name": "python",
   "nbconvert_exporter": "python",
   "pygments_lexer": "ipython3",
   "version": "3.8.8"
  }
 },
 "nbformat": 4,
 "nbformat_minor": 5
}
